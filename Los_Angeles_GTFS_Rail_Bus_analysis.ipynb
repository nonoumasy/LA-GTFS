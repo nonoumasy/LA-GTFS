{
  "nbformat": 4,
  "nbformat_minor": 0,
  "metadata": {
    "colab": {
      "name": "Los Angeles GTFS Rail Bus analysis.ipynb",
      "provenance": [],
      "authorship_tag": "ABX9TyMOdxTMCIlRUXFqfq+q95qV",
      "include_colab_link": true
    },
    "kernelspec": {
      "name": "python3",
      "display_name": "Python 3"
    }
  },
  "cells": [
    {
      "cell_type": "markdown",
      "metadata": {
        "id": "view-in-github",
        "colab_type": "text"
      },
      "source": [
        "<a href=\"https://colab.research.google.com/github/nonoumasy/LA-GTFS/blob/master/Los_Angeles_GTFS_Rail_Bus_analysis.ipynb\" target=\"_parent\"><img src=\"https://colab.research.google.com/assets/colab-badge.svg\" alt=\"Open In Colab\"/></a>"
      ]
    },
    {
      "cell_type": "code",
      "metadata": {
        "id": "bRnFCMR6LJk5",
        "colab_type": "code",
        "colab": {
          "base_uri": "https://localhost:8080/",
          "height": 616
        },
        "outputId": "f01c4857-6fd4-4266-cda5-eabd15942c6d"
      },
      "source": [
        "!pip install gtfstk"
      ],
      "execution_count": 1,
      "outputs": [
        {
          "output_type": "stream",
          "text": [
            "Collecting gtfstk\n",
            "\u001b[?25l  Downloading https://files.pythonhosted.org/packages/09/ce/ac89d64aba4e7c9bbccb9a468eb100ed54cd11e85b9c6a9ced7f018ba8b4/gtfstk-10.0.7-py3-none-any.whl (61kB)\n",
            "\r\u001b[K     |█████▍                          | 10kB 17.3MB/s eta 0:00:01\r\u001b[K     |██████████▊                     | 20kB 835kB/s eta 0:00:01\r\u001b[K     |████████████████                | 30kB 1.2MB/s eta 0:00:01\r\u001b[K     |█████████████████████▍          | 40kB 1.6MB/s eta 0:00:01\r\u001b[K     |██████████████████████████▊     | 51kB 1.0MB/s eta 0:00:01\r\u001b[K     |████████████████████████████████| 61kB 1.1MB/s \n",
            "\u001b[?25hCollecting json2table<2.0,>=1.1\n",
            "  Downloading https://files.pythonhosted.org/packages/c0/20/93b122d0daec1cc728b6e6dde860615e81c2bf03fb05cad9e3c1899b3c11/json2table-1.1.5-py2.py3-none-any.whl\n",
            "Collecting utm<0.5.0,>=0.4.2\n",
            "  Downloading https://files.pythonhosted.org/packages/92/d9/8bdb3d477dcaf75e1a1021772892f729a055787a08aa472582c5d35a0b36/utm-0.4.2.tar.gz\n",
            "Requirement already satisfied: shapely<2.0,>=1.6 in /usr/local/lib/python3.6/dist-packages (from gtfstk) (1.7.0)\n",
            "Collecting pandas<1\n",
            "\u001b[?25l  Downloading https://files.pythonhosted.org/packages/52/3f/f6a428599e0d4497e1595030965b5ba455fd8ade6e977e3c819973c4b41d/pandas-0.25.3-cp36-cp36m-manylinux1_x86_64.whl (10.4MB)\n",
            "\u001b[K     |████████████████████████████████| 10.4MB 4.1MB/s \n",
            "\u001b[?25hCollecting pycountry<19.0,>=18.5\n",
            "\u001b[?25l  Downloading https://files.pythonhosted.org/packages/f8/39/04d8215fddd5b263beb36cc324e5656714a19081cacb2fc7c8e6afc2817d/pycountry-18.12.8-py2.py3-none-any.whl (10.5MB)\n",
            "\u001b[K     |████████████████████████████████| 10.5MB 31.4MB/s \n",
            "\u001b[?25hRequirement already satisfied: pytz>=2017.2 in /usr/local/lib/python3.6/dist-packages (from pandas<1->gtfstk) (2018.9)\n",
            "Requirement already satisfied: numpy>=1.13.3 in /usr/local/lib/python3.6/dist-packages (from pandas<1->gtfstk) (1.18.2)\n",
            "Requirement already satisfied: python-dateutil>=2.6.1 in /usr/local/lib/python3.6/dist-packages (from pandas<1->gtfstk) (2.8.1)\n",
            "Requirement already satisfied: six>=1.5 in /usr/local/lib/python3.6/dist-packages (from python-dateutil>=2.6.1->pandas<1->gtfstk) (1.12.0)\n",
            "Building wheels for collected packages: utm\n",
            "  Building wheel for utm (setup.py) ... \u001b[?25l\u001b[?25hdone\n",
            "  Created wheel for utm: filename=utm-0.4.2-cp36-none-any.whl size=5424 sha256=8bffcb0a56693b563292623a7a5577456339634e71feba79456826a38692de5f\n",
            "  Stored in directory: /root/.cache/pip/wheels/1d/2d/5a/4c6320941f607ffefd353e1bb715e33a250a59f835cf0fbdd8\n",
            "Successfully built utm\n",
            "\u001b[31mERROR: google-colab 1.0.0 has requirement pandas~=1.0.0; python_version >= \"3.0\", but you'll have pandas 0.25.3 which is incompatible.\u001b[0m\n",
            "Installing collected packages: json2table, utm, pandas, pycountry, gtfstk\n",
            "  Found existing installation: pandas 1.0.3\n",
            "    Uninstalling pandas-1.0.3:\n",
            "      Successfully uninstalled pandas-1.0.3\n",
            "Successfully installed gtfstk-10.0.7 json2table-1.1.5 pandas-0.25.3 pycountry-18.12.8 utm-0.4.2\n"
          ],
          "name": "stdout"
        },
        {
          "output_type": "display_data",
          "data": {
            "application/vnd.colab-display-data+json": {
              "pip_warning": {
                "packages": [
                  "pandas"
                ]
              }
            }
          },
          "metadata": {
            "tags": []
          }
        }
      ]
    },
    {
      "cell_type": "code",
      "metadata": {
        "id": "ZkunTPmOLOtU",
        "colab_type": "code",
        "colab": {}
      },
      "source": [
        "import pandas as pd\n",
        "import gtfstk as gt"
      ],
      "execution_count": 0,
      "outputs": []
    },
    {
      "cell_type": "code",
      "metadata": {
        "id": "mCvHXbq6LahR",
        "colab_type": "code",
        "colab": {}
      },
      "source": [
        "feed = gt.read_gtfs('/content/gtfs.zip', dist_units='mi')\n",
        "bus_feed = gt.read_gtfs('/content/gtfs_bus.zip', dist_units='mi')"
      ],
      "execution_count": 0,
      "outputs": []
    },
    {
      "cell_type": "code",
      "metadata": {
        "id": "U2f7rWg7LpGV",
        "colab_type": "code",
        "colab": {
          "base_uri": "https://localhost:8080/",
          "height": 421
        },
        "outputId": "e391cb38-0a9e-4f6c-8d4a-6d9c1bec4c5d"
      },
      "source": [
        "feed.describe()"
      ],
      "execution_count": 5,
      "outputs": [
        {
          "output_type": "execute_result",
          "data": {
            "text/html": [
              "<div>\n",
              "<style scoped>\n",
              "    .dataframe tbody tr th:only-of-type {\n",
              "        vertical-align: middle;\n",
              "    }\n",
              "\n",
              "    .dataframe tbody tr th {\n",
              "        vertical-align: top;\n",
              "    }\n",
              "\n",
              "    .dataframe thead th {\n",
              "        text-align: right;\n",
              "    }\n",
              "</style>\n",
              "<table border=\"1\" class=\"dataframe\">\n",
              "  <thead>\n",
              "    <tr style=\"text-align: right;\">\n",
              "      <th></th>\n",
              "      <th>indicator</th>\n",
              "      <th>value</th>\n",
              "    </tr>\n",
              "  </thead>\n",
              "  <tbody>\n",
              "    <tr>\n",
              "      <th>0</th>\n",
              "      <td>agencies</td>\n",
              "      <td>[Metro - Los Angeles]</td>\n",
              "    </tr>\n",
              "    <tr>\n",
              "      <th>1</th>\n",
              "      <td>timezone</td>\n",
              "      <td>America/Los_Angeles</td>\n",
              "    </tr>\n",
              "    <tr>\n",
              "      <th>2</th>\n",
              "      <td>start_date</td>\n",
              "      <td>20200408</td>\n",
              "    </tr>\n",
              "    <tr>\n",
              "      <th>3</th>\n",
              "      <td>end_date</td>\n",
              "      <td>20200422</td>\n",
              "    </tr>\n",
              "    <tr>\n",
              "      <th>4</th>\n",
              "      <td>num_routes</td>\n",
              "      <td>6</td>\n",
              "    </tr>\n",
              "    <tr>\n",
              "      <th>5</th>\n",
              "      <td>num_trips</td>\n",
              "      <td>5998</td>\n",
              "    </tr>\n",
              "    <tr>\n",
              "      <th>6</th>\n",
              "      <td>num_stops</td>\n",
              "      <td>401</td>\n",
              "    </tr>\n",
              "    <tr>\n",
              "      <th>7</th>\n",
              "      <td>num_shapes</td>\n",
              "      <td>12</td>\n",
              "    </tr>\n",
              "    <tr>\n",
              "      <th>8</th>\n",
              "      <td>sample_date</td>\n",
              "      <td>20200416</td>\n",
              "    </tr>\n",
              "    <tr>\n",
              "      <th>9</th>\n",
              "      <td>num_routes_active_on_sample_date</td>\n",
              "      <td>6</td>\n",
              "    </tr>\n",
              "    <tr>\n",
              "      <th>10</th>\n",
              "      <td>num_trips_active_on_sample_date</td>\n",
              "      <td>1191</td>\n",
              "    </tr>\n",
              "    <tr>\n",
              "      <th>11</th>\n",
              "      <td>num_stops_active_on_sample_date</td>\n",
              "      <td>96</td>\n",
              "    </tr>\n",
              "  </tbody>\n",
              "</table>\n",
              "</div>"
            ],
            "text/plain": [
              "                           indicator                  value\n",
              "0                           agencies  [Metro - Los Angeles]\n",
              "1                           timezone    America/Los_Angeles\n",
              "2                         start_date               20200408\n",
              "3                           end_date               20200422\n",
              "4                         num_routes                      6\n",
              "5                          num_trips                   5998\n",
              "6                          num_stops                    401\n",
              "7                         num_shapes                     12\n",
              "8                        sample_date               20200416\n",
              "9   num_routes_active_on_sample_date                      6\n",
              "10   num_trips_active_on_sample_date                   1191\n",
              "11   num_stops_active_on_sample_date                     96"
            ]
          },
          "metadata": {
            "tags": []
          },
          "execution_count": 5
        }
      ]
    },
    {
      "cell_type": "code",
      "metadata": {
        "id": "L0PBFc_rL4fh",
        "colab_type": "code",
        "colab": {
          "base_uri": "https://localhost:8080/",
          "height": 421
        },
        "outputId": "6dfd19e3-542b-4a79-a18b-1bd319334be1"
      },
      "source": [
        "bus_feed.describe()"
      ],
      "execution_count": 8,
      "outputs": [
        {
          "output_type": "execute_result",
          "data": {
            "text/html": [
              "<div>\n",
              "<style scoped>\n",
              "    .dataframe tbody tr th:only-of-type {\n",
              "        vertical-align: middle;\n",
              "    }\n",
              "\n",
              "    .dataframe tbody tr th {\n",
              "        vertical-align: top;\n",
              "    }\n",
              "\n",
              "    .dataframe thead th {\n",
              "        text-align: right;\n",
              "    }\n",
              "</style>\n",
              "<table border=\"1\" class=\"dataframe\">\n",
              "  <thead>\n",
              "    <tr style=\"text-align: right;\">\n",
              "      <th></th>\n",
              "      <th>indicator</th>\n",
              "      <th>value</th>\n",
              "    </tr>\n",
              "  </thead>\n",
              "  <tbody>\n",
              "    <tr>\n",
              "      <th>0</th>\n",
              "      <td>agencies</td>\n",
              "      <td>[Metro - Los Angeles]</td>\n",
              "    </tr>\n",
              "    <tr>\n",
              "      <th>1</th>\n",
              "      <td>timezone</td>\n",
              "      <td>America/Los_Angeles</td>\n",
              "    </tr>\n",
              "    <tr>\n",
              "      <th>2</th>\n",
              "      <td>start_date</td>\n",
              "      <td>20191222</td>\n",
              "    </tr>\n",
              "    <tr>\n",
              "      <th>3</th>\n",
              "      <td>end_date</td>\n",
              "      <td>20200627</td>\n",
              "    </tr>\n",
              "    <tr>\n",
              "      <th>4</th>\n",
              "      <td>num_routes</td>\n",
              "      <td>138</td>\n",
              "    </tr>\n",
              "    <tr>\n",
              "      <th>5</th>\n",
              "      <td>num_trips</td>\n",
              "      <td>32039</td>\n",
              "    </tr>\n",
              "    <tr>\n",
              "      <th>6</th>\n",
              "      <td>num_stops</td>\n",
              "      <td>13971</td>\n",
              "    </tr>\n",
              "    <tr>\n",
              "      <th>7</th>\n",
              "      <td>num_shapes</td>\n",
              "      <td>1206</td>\n",
              "    </tr>\n",
              "    <tr>\n",
              "      <th>8</th>\n",
              "      <td>sample_date</td>\n",
              "      <td>20191226</td>\n",
              "    </tr>\n",
              "    <tr>\n",
              "      <th>9</th>\n",
              "      <td>num_routes_active_on_sample_date</td>\n",
              "      <td>138</td>\n",
              "    </tr>\n",
              "    <tr>\n",
              "      <th>10</th>\n",
              "      <td>num_trips_active_on_sample_date</td>\n",
              "      <td>13841</td>\n",
              "    </tr>\n",
              "    <tr>\n",
              "      <th>11</th>\n",
              "      <td>num_stops_active_on_sample_date</td>\n",
              "      <td>13957</td>\n",
              "    </tr>\n",
              "  </tbody>\n",
              "</table>\n",
              "</div>"
            ],
            "text/plain": [
              "                           indicator                  value\n",
              "0                           agencies  [Metro - Los Angeles]\n",
              "1                           timezone    America/Los_Angeles\n",
              "2                         start_date               20191222\n",
              "3                           end_date               20200627\n",
              "4                         num_routes                    138\n",
              "5                          num_trips                  32039\n",
              "6                          num_stops                  13971\n",
              "7                         num_shapes                   1206\n",
              "8                        sample_date               20191226\n",
              "9   num_routes_active_on_sample_date                    138\n",
              "10   num_trips_active_on_sample_date                  13841\n",
              "11   num_stops_active_on_sample_date                  13957"
            ]
          },
          "metadata": {
            "tags": []
          },
          "execution_count": 8
        }
      ]
    },
    {
      "cell_type": "code",
      "metadata": {
        "id": "c_gTwbfJObdk",
        "colab_type": "code",
        "colab": {
          "base_uri": "https://localhost:8080/",
          "height": 204
        },
        "outputId": "f3e30c13-25ba-410f-9ff6-4c797530c0ff"
      },
      "source": [
        "# validate the data\n",
        "feed.validate()"
      ],
      "execution_count": 9,
      "outputs": [
        {
          "output_type": "execute_result",
          "data": {
            "text/html": [
              "<div>\n",
              "<style scoped>\n",
              "    .dataframe tbody tr th:only-of-type {\n",
              "        vertical-align: middle;\n",
              "    }\n",
              "\n",
              "    .dataframe tbody tr th {\n",
              "        vertical-align: top;\n",
              "    }\n",
              "\n",
              "    .dataframe thead th {\n",
              "        text-align: right;\n",
              "    }\n",
              "</style>\n",
              "<table border=\"1\" class=\"dataframe\">\n",
              "  <thead>\n",
              "    <tr style=\"text-align: right;\">\n",
              "      <th></th>\n",
              "      <th>type</th>\n",
              "      <th>message</th>\n",
              "      <th>table</th>\n",
              "      <th>rows</th>\n",
              "    </tr>\n",
              "  </thead>\n",
              "  <tbody>\n",
              "    <tr>\n",
              "      <th>0</th>\n",
              "      <td>warning</td>\n",
              "      <td>Unrecognized column feed_id</td>\n",
              "      <td>feed_info</td>\n",
              "      <td>[]</td>\n",
              "    </tr>\n",
              "    <tr>\n",
              "      <th>1</th>\n",
              "      <td>warning</td>\n",
              "      <td>Unrecognized column feed_license</td>\n",
              "      <td>feed_info</td>\n",
              "      <td>[]</td>\n",
              "    </tr>\n",
              "    <tr>\n",
              "      <th>2</th>\n",
              "      <td>warning</td>\n",
              "      <td>Unrecognized column feed_contact_email</td>\n",
              "      <td>feed_info</td>\n",
              "      <td>[]</td>\n",
              "    </tr>\n",
              "    <tr>\n",
              "      <th>3</th>\n",
              "      <td>warning</td>\n",
              "      <td>Unrecognized column feed_contact_url</td>\n",
              "      <td>feed_info</td>\n",
              "      <td>[]</td>\n",
              "    </tr>\n",
              "    <tr>\n",
              "      <th>4</th>\n",
              "      <td>warning</td>\n",
              "      <td>Unrecognized column tpis_name</td>\n",
              "      <td>stops</td>\n",
              "      <td>[]</td>\n",
              "    </tr>\n",
              "  </tbody>\n",
              "</table>\n",
              "</div>"
            ],
            "text/plain": [
              "      type                                 message      table rows\n",
              "0  warning             Unrecognized column feed_id  feed_info   []\n",
              "1  warning        Unrecognized column feed_license  feed_info   []\n",
              "2  warning  Unrecognized column feed_contact_email  feed_info   []\n",
              "3  warning    Unrecognized column feed_contact_url  feed_info   []\n",
              "4  warning           Unrecognized column tpis_name      stops   []"
            ]
          },
          "metadata": {
            "tags": []
          },
          "execution_count": 9
        }
      ]
    },
    {
      "cell_type": "code",
      "metadata": {
        "id": "NjynahEVP3-5",
        "colab_type": "code",
        "colab": {
          "base_uri": "https://localhost:8080/",
          "height": 235
        },
        "outputId": "c549968b-a668-4f30-a7be-34a845b76d74"
      },
      "source": [
        "bus_feed.validate()"
      ],
      "execution_count": 10,
      "outputs": [
        {
          "output_type": "execute_result",
          "data": {
            "text/html": [
              "<div>\n",
              "<style scoped>\n",
              "    .dataframe tbody tr th:only-of-type {\n",
              "        vertical-align: middle;\n",
              "    }\n",
              "\n",
              "    .dataframe tbody tr th {\n",
              "        vertical-align: top;\n",
              "    }\n",
              "\n",
              "    .dataframe thead th {\n",
              "        text-align: right;\n",
              "    }\n",
              "</style>\n",
              "<table border=\"1\" class=\"dataframe\">\n",
              "  <thead>\n",
              "    <tr style=\"text-align: right;\">\n",
              "      <th></th>\n",
              "      <th>type</th>\n",
              "      <th>message</th>\n",
              "      <th>table</th>\n",
              "      <th>rows</th>\n",
              "    </tr>\n",
              "  </thead>\n",
              "  <tbody>\n",
              "    <tr>\n",
              "      <th>0</th>\n",
              "      <td>warning</td>\n",
              "      <td>Unrecognized column feed_id</td>\n",
              "      <td>feed_info</td>\n",
              "      <td>[]</td>\n",
              "    </tr>\n",
              "    <tr>\n",
              "      <th>1</th>\n",
              "      <td>warning</td>\n",
              "      <td>Unrecognized column feed_license</td>\n",
              "      <td>feed_info</td>\n",
              "      <td>[]</td>\n",
              "    </tr>\n",
              "    <tr>\n",
              "      <th>2</th>\n",
              "      <td>warning</td>\n",
              "      <td>Unrecognized column feed_contact_email</td>\n",
              "      <td>feed_info</td>\n",
              "      <td>[]</td>\n",
              "    </tr>\n",
              "    <tr>\n",
              "      <th>3</th>\n",
              "      <td>warning</td>\n",
              "      <td>Unrecognized column feed_contact_url</td>\n",
              "      <td>feed_info</td>\n",
              "      <td>[]</td>\n",
              "    </tr>\n",
              "    <tr>\n",
              "      <th>5</th>\n",
              "      <td>warning</td>\n",
              "      <td>Repeated pair (trip_id, departure_time)</td>\n",
              "      <td>stop_times</td>\n",
              "      <td>[5, 8, 10, 14, 16, 18, 22, 25, 27, 28, 35, 40,...</td>\n",
              "    </tr>\n",
              "    <tr>\n",
              "      <th>4</th>\n",
              "      <td>warning</td>\n",
              "      <td>Unrecognized column tpis_name</td>\n",
              "      <td>stops</td>\n",
              "      <td>[]</td>\n",
              "    </tr>\n",
              "  </tbody>\n",
              "</table>\n",
              "</div>"
            ],
            "text/plain": [
              "      type  ...                                               rows\n",
              "0  warning  ...                                                 []\n",
              "1  warning  ...                                                 []\n",
              "2  warning  ...                                                 []\n",
              "3  warning  ...                                                 []\n",
              "5  warning  ...  [5, 8, 10, 14, 16, 18, 22, 25, 27, 28, 35, 40,...\n",
              "4  warning  ...                                                 []\n",
              "\n",
              "[6 rows x 4 columns]"
            ]
          },
          "metadata": {
            "tags": []
          },
          "execution_count": 10
        }
      ]
    },
    {
      "cell_type": "code",
      "metadata": {
        "id": "ByikcwUTP5ll",
        "colab_type": "code",
        "colab": {
          "base_uri": "https://localhost:8080/",
          "height": 419
        },
        "outputId": "a0ba397b-3ffa-40d8-e4d8-7d761cea7ae3"
      },
      "source": [
        "# access the pandas trips dataframe \n",
        "feed.trips"
      ],
      "execution_count": 14,
      "outputs": [
        {
          "output_type": "execute_result",
          "data": {
            "text/html": [
              "<div>\n",
              "<style scoped>\n",
              "    .dataframe tbody tr th:only-of-type {\n",
              "        vertical-align: middle;\n",
              "    }\n",
              "\n",
              "    .dataframe tbody tr th {\n",
              "        vertical-align: top;\n",
              "    }\n",
              "\n",
              "    .dataframe thead th {\n",
              "        text-align: right;\n",
              "    }\n",
              "</style>\n",
              "<table border=\"1\" class=\"dataframe\">\n",
              "  <thead>\n",
              "    <tr style=\"text-align: right;\">\n",
              "      <th></th>\n",
              "      <th>route_id</th>\n",
              "      <th>service_id</th>\n",
              "      <th>trip_id</th>\n",
              "      <th>trip_headsign</th>\n",
              "      <th>direction_id</th>\n",
              "      <th>block_id</th>\n",
              "      <th>shape_id</th>\n",
              "    </tr>\n",
              "  </thead>\n",
              "  <tbody>\n",
              "    <tr>\n",
              "      <th>0</th>\n",
              "      <td>801</td>\n",
              "      <td>RDEC19-801-1_Weekday-91</td>\n",
              "      <td>50674247</td>\n",
              "      <td>NaN</td>\n",
              "      <td>0</td>\n",
              "      <td>107</td>\n",
              "      <td>801NB_120323</td>\n",
              "    </tr>\n",
              "    <tr>\n",
              "      <th>1</th>\n",
              "      <td>801</td>\n",
              "      <td>RDEC19-801-1_Weekday-91</td>\n",
              "      <td>50674248</td>\n",
              "      <td>NaN</td>\n",
              "      <td>0</td>\n",
              "      <td>102</td>\n",
              "      <td>801NB_120323</td>\n",
              "    </tr>\n",
              "    <tr>\n",
              "      <th>2</th>\n",
              "      <td>801</td>\n",
              "      <td>RDEC19-801-1_Weekday-91</td>\n",
              "      <td>50674249</td>\n",
              "      <td>NaN</td>\n",
              "      <td>0</td>\n",
              "      <td>105</td>\n",
              "      <td>801NB_120323</td>\n",
              "    </tr>\n",
              "    <tr>\n",
              "      <th>3</th>\n",
              "      <td>801</td>\n",
              "      <td>RDEC19-801-1_Weekday-91</td>\n",
              "      <td>50674250</td>\n",
              "      <td>NaN</td>\n",
              "      <td>0</td>\n",
              "      <td>110</td>\n",
              "      <td>801NB_120323</td>\n",
              "    </tr>\n",
              "    <tr>\n",
              "      <th>4</th>\n",
              "      <td>801</td>\n",
              "      <td>RDEC19-801-1_Weekday-91</td>\n",
              "      <td>50674251</td>\n",
              "      <td>NaN</td>\n",
              "      <td>0</td>\n",
              "      <td>106</td>\n",
              "      <td>801NB_120323</td>\n",
              "    </tr>\n",
              "    <tr>\n",
              "      <th>...</th>\n",
              "      <td>...</td>\n",
              "      <td>...</td>\n",
              "      <td>...</td>\n",
              "      <td>...</td>\n",
              "      <td>...</td>\n",
              "      <td>...</td>\n",
              "      <td>...</td>\n",
              "    </tr>\n",
              "    <tr>\n",
              "      <th>5993</th>\n",
              "      <td>804</td>\n",
              "      <td>RDEC19-804-3_Sunday-99</td>\n",
              "      <td>50008659</td>\n",
              "      <td>NaN</td>\n",
              "      <td>1</td>\n",
              "      <td>412</td>\n",
              "      <td>804SB_160306</td>\n",
              "    </tr>\n",
              "    <tr>\n",
              "      <th>5994</th>\n",
              "      <td>804</td>\n",
              "      <td>RDEC19-804-3_Sunday-99</td>\n",
              "      <td>50008660</td>\n",
              "      <td>NaN</td>\n",
              "      <td>1</td>\n",
              "      <td>403</td>\n",
              "      <td>804SB_160306</td>\n",
              "    </tr>\n",
              "    <tr>\n",
              "      <th>5995</th>\n",
              "      <td>804</td>\n",
              "      <td>RDEC19-804-3_Sunday-99</td>\n",
              "      <td>50008661</td>\n",
              "      <td>NaN</td>\n",
              "      <td>0</td>\n",
              "      <td>403</td>\n",
              "      <td>804NB_160306</td>\n",
              "    </tr>\n",
              "    <tr>\n",
              "      <th>5996</th>\n",
              "      <td>804</td>\n",
              "      <td>RDEC19-804-3_Sunday-99</td>\n",
              "      <td>50008665</td>\n",
              "      <td>NaN</td>\n",
              "      <td>1</td>\n",
              "      <td>402</td>\n",
              "      <td>804SB_160306</td>\n",
              "    </tr>\n",
              "    <tr>\n",
              "      <th>5997</th>\n",
              "      <td>804</td>\n",
              "      <td>RDEC19-804-3_Sunday-99</td>\n",
              "      <td>50008666</td>\n",
              "      <td>NaN</td>\n",
              "      <td>1</td>\n",
              "      <td>401</td>\n",
              "      <td>804SB_160306</td>\n",
              "    </tr>\n",
              "  </tbody>\n",
              "</table>\n",
              "<p>5998 rows × 7 columns</p>\n",
              "</div>"
            ],
            "text/plain": [
              "     route_id               service_id  ... block_id      shape_id\n",
              "0         801  RDEC19-801-1_Weekday-91  ...      107  801NB_120323\n",
              "1         801  RDEC19-801-1_Weekday-91  ...      102  801NB_120323\n",
              "2         801  RDEC19-801-1_Weekday-91  ...      105  801NB_120323\n",
              "3         801  RDEC19-801-1_Weekday-91  ...      110  801NB_120323\n",
              "4         801  RDEC19-801-1_Weekday-91  ...      106  801NB_120323\n",
              "...       ...                      ...  ...      ...           ...\n",
              "5993      804   RDEC19-804-3_Sunday-99  ...      412  804SB_160306\n",
              "5994      804   RDEC19-804-3_Sunday-99  ...      403  804SB_160306\n",
              "5995      804   RDEC19-804-3_Sunday-99  ...      403  804NB_160306\n",
              "5996      804   RDEC19-804-3_Sunday-99  ...      402  804SB_160306\n",
              "5997      804   RDEC19-804-3_Sunday-99  ...      401  804SB_160306\n",
              "\n",
              "[5998 rows x 7 columns]"
            ]
          },
          "metadata": {
            "tags": []
          },
          "execution_count": 14
        }
      ]
    },
    {
      "cell_type": "code",
      "metadata": {
        "id": "Ci28FfoLQEr-",
        "colab_type": "code",
        "colab": {
          "base_uri": "https://localhost:8080/",
          "height": 504
        },
        "outputId": "5582b020-f010-403f-a8f7-516f2a27dd27"
      },
      "source": [
        "bus_feed.trips"
      ],
      "execution_count": 12,
      "outputs": [
        {
          "output_type": "execute_result",
          "data": {
            "text/html": [
              "<div>\n",
              "<style scoped>\n",
              "    .dataframe tbody tr th:only-of-type {\n",
              "        vertical-align: middle;\n",
              "    }\n",
              "\n",
              "    .dataframe tbody tr th {\n",
              "        vertical-align: top;\n",
              "    }\n",
              "\n",
              "    .dataframe thead th {\n",
              "        text-align: right;\n",
              "    }\n",
              "</style>\n",
              "<table border=\"1\" class=\"dataframe\">\n",
              "  <thead>\n",
              "    <tr style=\"text-align: right;\">\n",
              "      <th></th>\n",
              "      <th>route_id</th>\n",
              "      <th>service_id</th>\n",
              "      <th>trip_id</th>\n",
              "      <th>trip_headsign</th>\n",
              "      <th>direction_id</th>\n",
              "      <th>block_id</th>\n",
              "      <th>shape_id</th>\n",
              "    </tr>\n",
              "  </thead>\n",
              "  <tbody>\n",
              "    <tr>\n",
              "      <th>0</th>\n",
              "      <td>102-13131</td>\n",
              "      <td>DEC19-D05CAR-1_Weekday</td>\n",
              "      <td>49404780-DEC19-D05CAR-1_Weekday</td>\n",
              "      <td>NaN</td>\n",
              "      <td>0</td>\n",
              "      <td>1020400</td>\n",
              "      <td>1020065_DEC19</td>\n",
              "    </tr>\n",
              "    <tr>\n",
              "      <th>1</th>\n",
              "      <td>102-13131</td>\n",
              "      <td>DEC19-D05CAR-1_Weekday</td>\n",
              "      <td>49404781-DEC19-D05CAR-1_Weekday</td>\n",
              "      <td>NaN</td>\n",
              "      <td>0</td>\n",
              "      <td>1020100</td>\n",
              "      <td>1020037_DEC19</td>\n",
              "    </tr>\n",
              "    <tr>\n",
              "      <th>2</th>\n",
              "      <td>102-13131</td>\n",
              "      <td>DEC19-D05CAR-1_Weekday</td>\n",
              "      <td>49404782-DEC19-D05CAR-1_Weekday</td>\n",
              "      <td>NaN</td>\n",
              "      <td>0</td>\n",
              "      <td>1020300</td>\n",
              "      <td>1020038_DEC19</td>\n",
              "    </tr>\n",
              "    <tr>\n",
              "      <th>3</th>\n",
              "      <td>102-13131</td>\n",
              "      <td>DEC19-D05CAR-1_Weekday</td>\n",
              "      <td>49404783-DEC19-D05CAR-1_Weekday</td>\n",
              "      <td>NaN</td>\n",
              "      <td>0</td>\n",
              "      <td>1020300</td>\n",
              "      <td>1020037_DEC19</td>\n",
              "    </tr>\n",
              "    <tr>\n",
              "      <th>4</th>\n",
              "      <td>102-13131</td>\n",
              "      <td>DEC19-D05CAR-1_Weekday</td>\n",
              "      <td>49404784-DEC19-D05CAR-1_Weekday</td>\n",
              "      <td>NaN</td>\n",
              "      <td>1</td>\n",
              "      <td>1020300</td>\n",
              "      <td>1020061_DEC19</td>\n",
              "    </tr>\n",
              "    <tr>\n",
              "      <th>...</th>\n",
              "      <td>...</td>\n",
              "      <td>...</td>\n",
              "      <td>...</td>\n",
              "      <td>...</td>\n",
              "      <td>...</td>\n",
              "      <td>...</td>\n",
              "      <td>...</td>\n",
              "    </tr>\n",
              "    <tr>\n",
              "      <th>32034</th>\n",
              "      <td>78-13131</td>\n",
              "      <td>DEC19-D09CAR-3_Sunday-RACEE0</td>\n",
              "      <td>49892049-DEC19-D09CAR-3_Sunday-RACEE0</td>\n",
              "      <td>NaN</td>\n",
              "      <td>1</td>\n",
              "      <td>0785602</td>\n",
              "      <td>780431_DEC19</td>\n",
              "    </tr>\n",
              "    <tr>\n",
              "      <th>32035</th>\n",
              "      <td>78-13131</td>\n",
              "      <td>DEC19-D09CAR-3_Sunday-RACEA0</td>\n",
              "      <td>49892050-DEC19-D09CAR-3_Sunday-RACEA0</td>\n",
              "      <td>NaN</td>\n",
              "      <td>1</td>\n",
              "      <td>0786602</td>\n",
              "      <td>780431_DEC19</td>\n",
              "    </tr>\n",
              "    <tr>\n",
              "      <th>32036</th>\n",
              "      <td>78-13131</td>\n",
              "      <td>DEC19-D09CAR-3_Sunday-RACEA0</td>\n",
              "      <td>49892051-DEC19-D09CAR-3_Sunday-RACEA0</td>\n",
              "      <td>NaN</td>\n",
              "      <td>1</td>\n",
              "      <td>0786502</td>\n",
              "      <td>780432_DEC19</td>\n",
              "    </tr>\n",
              "    <tr>\n",
              "      <th>32037</th>\n",
              "      <td>78-13131</td>\n",
              "      <td>DEC19-D09CAR-3_Sunday-RACEB0</td>\n",
              "      <td>49892052-DEC19-D09CAR-3_Sunday-RACEB0</td>\n",
              "      <td>NaN</td>\n",
              "      <td>0</td>\n",
              "      <td>0789201</td>\n",
              "      <td>780505_DEC19</td>\n",
              "    </tr>\n",
              "    <tr>\n",
              "      <th>32038</th>\n",
              "      <td>78-13131</td>\n",
              "      <td>DEC19-D09CAR-3_Sunday-RACED0</td>\n",
              "      <td>49892053-DEC19-D09CAR-3_Sunday-RACED0</td>\n",
              "      <td>NaN</td>\n",
              "      <td>1</td>\n",
              "      <td>0788402</td>\n",
              "      <td>780432_DEC19</td>\n",
              "    </tr>\n",
              "  </tbody>\n",
              "</table>\n",
              "<p>32039 rows × 7 columns</p>\n",
              "</div>"
            ],
            "text/plain": [
              "        route_id                    service_id  ... block_id       shape_id\n",
              "0      102-13131        DEC19-D05CAR-1_Weekday  ...  1020400  1020065_DEC19\n",
              "1      102-13131        DEC19-D05CAR-1_Weekday  ...  1020100  1020037_DEC19\n",
              "2      102-13131        DEC19-D05CAR-1_Weekday  ...  1020300  1020038_DEC19\n",
              "3      102-13131        DEC19-D05CAR-1_Weekday  ...  1020300  1020037_DEC19\n",
              "4      102-13131        DEC19-D05CAR-1_Weekday  ...  1020300  1020061_DEC19\n",
              "...          ...                           ...  ...      ...            ...\n",
              "32034   78-13131  DEC19-D09CAR-3_Sunday-RACEE0  ...  0785602   780431_DEC19\n",
              "32035   78-13131  DEC19-D09CAR-3_Sunday-RACEA0  ...  0786602   780431_DEC19\n",
              "32036   78-13131  DEC19-D09CAR-3_Sunday-RACEA0  ...  0786502   780432_DEC19\n",
              "32037   78-13131  DEC19-D09CAR-3_Sunday-RACEB0  ...  0789201   780505_DEC19\n",
              "32038   78-13131  DEC19-D09CAR-3_Sunday-RACED0  ...  0788402   780432_DEC19\n",
              "\n",
              "[32039 rows x 7 columns]"
            ]
          },
          "metadata": {
            "tags": []
          },
          "execution_count": 12
        }
      ]
    },
    {
      "cell_type": "code",
      "metadata": {
        "id": "4X2dVDroQMRM",
        "colab_type": "code",
        "colab": {}
      },
      "source": [
        "def gtfs_stats(feed):\n",
        "  # trip stats\n",
        "  trip_stats = feed.compute_trip_stats()\n",
        "  feed = feed.append_dist_to_stop_times(trip_stats)\n",
        "  print(feed.stop_times.T)\n",
        "\n",
        "  # route stats\n",
        "  route_stats = feed.compute_route_stats(trip_stats)\n",
        "  print(route_stats.T)\n",
        "\n",
        "  # merge route_name\n",
        "  route_stats.merge(feed.routes.filter['route_id', 'route_long_name'])\n",
        "  print(route_stats)\n"
      ],
      "execution_count": 0,
      "outputs": []
    },
    {
      "cell_type": "code",
      "metadata": {
        "id": "B3Z_RKVTRZJo",
        "colab_type": "code",
        "colab": {
          "base_uri": "https://localhost:8080/",
          "height": 487
        },
        "outputId": "59474ff3-dbcc-42a9-b0eb-d845e7453a57"
      },
      "source": [
        "gtfs_stats(feed)"
      ],
      "execution_count": 21,
      "outputs": [
        {
          "output_type": "stream",
          "text": [
            "                                             0      ...                                98965\n",
            "trip_id                                   49824101  ...                             50704752\n",
            "arrival_time                              04:30:00  ...                             10:26:00\n",
            "departure_time                            04:30:00  ...                             10:26:00\n",
            "stop_id                                      80214  ...                                80139\n",
            "stop_sequence                                    1  ...                                   19\n",
            "stop_headsign        802 - North Hollywood Station  ...  806 - Downtown Santa Monica Station\n",
            "pickup_type                                      0  ...                                    0\n",
            "drop_off_type                                    0  ...                                    0\n",
            "shape_dist_traveled                       0.797202  ...                              15.3067\n",
            "\n",
            "[9 rows x 98966 columns]\n"
          ],
          "name": "stdout"
        },
        {
          "output_type": "error",
          "ename": "TypeError",
          "evalue": "ignored",
          "traceback": [
            "\u001b[0;31m---------------------------------------------------------------------------\u001b[0m",
            "\u001b[0;31mTypeError\u001b[0m                                 Traceback (most recent call last)",
            "\u001b[0;32m<ipython-input-21-daf0e60e2ad4>\u001b[0m in \u001b[0;36m<module>\u001b[0;34m()\u001b[0m\n\u001b[0;32m----> 1\u001b[0;31m \u001b[0mgtfs_stats\u001b[0m\u001b[0;34m(\u001b[0m\u001b[0mfeed\u001b[0m\u001b[0;34m)\u001b[0m\u001b[0;34m\u001b[0m\u001b[0;34m\u001b[0m\u001b[0m\n\u001b[0m",
            "\u001b[0;32m<ipython-input-20-9f2f74e682d2>\u001b[0m in \u001b[0;36mgtfs_stats\u001b[0;34m(feed)\u001b[0m\n\u001b[1;32m      6\u001b[0m \u001b[0;34m\u001b[0m\u001b[0m\n\u001b[1;32m      7\u001b[0m   \u001b[0;31m# route stats\u001b[0m\u001b[0;34m\u001b[0m\u001b[0;34m\u001b[0m\u001b[0;34m\u001b[0m\u001b[0m\n\u001b[0;32m----> 8\u001b[0;31m   \u001b[0mroute_stats\u001b[0m \u001b[0;34m=\u001b[0m \u001b[0mfeed\u001b[0m\u001b[0;34m.\u001b[0m\u001b[0mcompute_route_stats\u001b[0m\u001b[0;34m(\u001b[0m\u001b[0mtrip_stats\u001b[0m\u001b[0;34m)\u001b[0m\u001b[0;34m\u001b[0m\u001b[0;34m\u001b[0m\u001b[0m\n\u001b[0m\u001b[1;32m      9\u001b[0m   \u001b[0mprint\u001b[0m\u001b[0;34m(\u001b[0m\u001b[0mroute_stats\u001b[0m\u001b[0;34m.\u001b[0m\u001b[0mT\u001b[0m\u001b[0;34m)\u001b[0m\u001b[0;34m\u001b[0m\u001b[0;34m\u001b[0m\u001b[0m\n\u001b[1;32m     10\u001b[0m \u001b[0;34m\u001b[0m\u001b[0m\n",
            "\u001b[0;31mTypeError\u001b[0m: compute_route_stats() missing 1 required positional argument: 'dates'"
          ]
        }
      ]
    },
    {
      "cell_type": "code",
      "metadata": {
        "id": "j0As8hyVRJOa",
        "colab_type": "code",
        "colab": {
          "base_uri": "https://localhost:8080/",
          "height": 672
        },
        "outputId": "f781248b-084d-482a-a037-494893ae9016"
      },
      "source": [
        "feed.map_routes(route_ids=['801'])"
      ],
      "execution_count": 23,
      "outputs": [
        {
          "output_type": "execute_result",
          "data": {
            "text/html": [
              "<div style=\"width:100%;\"><div style=\"position:relative;width:100%;height:0;padding-bottom:60%;\"><iframe src=\"about:blank\" style=\"position:absolute;width:100%;height:100%;left:0;top:0;border:none !important;\" data-html=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 onload=\"this.contentDocument.open();this.contentDocument.write(atob(this.getAttribute('data-html')));this.contentDocument.close();\" allowfullscreen webkitallowfullscreen mozallowfullscreen></iframe></div></div>"
            ],
            "text/plain": [
              "<folium.folium.Map at 0x7f39528934e0>"
            ]
          },
          "metadata": {
            "tags": []
          },
          "execution_count": 23
        }
      ]
    },
    {
      "cell_type": "code",
      "metadata": {
        "id": "X01lGlcGVAol",
        "colab_type": "code",
        "colab": {}
      },
      "source": [
        ""
      ],
      "execution_count": 0,
      "outputs": []
    }
  ]
}